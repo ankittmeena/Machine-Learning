{
 "cells": [
  {
   "cell_type": "code",
   "execution_count": 1,
   "metadata": {},
   "outputs": [],
   "source": [
    "from sklearn.model_selection import train_test_split\n",
    "from sklearn import datasets\n",
    "from collections import Counter \n",
    "from sklearn.metrics import accuracy_score ,precision_score,recall_score,f1_score\n",
    "import numpy as np"
   ]
  },
  {
   "cell_type": "code",
   "execution_count": 2,
   "metadata": {},
   "outputs": [],
   "source": [
    "iris = datasets.load_iris()"
   ]
  },
  {
   "cell_type": "code",
   "execution_count": 3,
   "metadata": {},
   "outputs": [],
   "source": [
    "x=iris.data\n",
    "y=iris.target"
   ]
  },
  {
   "cell_type": "code",
   "execution_count": 4,
   "metadata": {},
   "outputs": [],
   "source": [
    "x_train,x_test,y_train,y_test=train_test_split(x,y)"
   ]
  },
  {
   "cell_type": "code",
   "execution_count": 5,
   "metadata": {},
   "outputs": [],
   "source": [
    "def weightcal(x_test,x_train,y_train,k):\n",
    "    distance = []\n",
    "    for i in range(len(x_train)):\n",
    "        distance.append([((x_test-x_train[i,:])**2).sum(),i])\n",
    "    distance=sorted(distance)\n",
    "    max = distance[0][0]\n",
    "    min = distance[k-1][0]\n",
    "    d = max-min\n",
    "    c = [0,0,0]\n",
    "    for i in range(k):\n",
    "        distance[i][0] = (distance[i][0]-min)/d\n",
    "        if(y_train[distance[i][1]]==0):\n",
    "            c[0]+=distance[i][0]\n",
    "        if(y_train[distance[i][1]]==1):\n",
    "            c[1]+=distance[i][0]\n",
    "        if(y_train[distance[i][1]]==2):\n",
    "            c[2]+=distance[i][0]\n",
    "\n",
    "    if(c[0]>c[1] and c[0]>c[2]):\n",
    "        return 0\n",
    "    if(c[1]>c[0] and c[1]>c[2]):\n",
    "        return 1\n",
    "    if(c[2]>c[0] and c[2]>c[1]):\n",
    "        return 2\n"
   ]
  },
  {
   "cell_type": "code",
   "execution_count": 6,
   "metadata": {},
   "outputs": [],
   "source": [
    "def predict(x_test,x_train,y_train,k):\n",
    "    y_pred = []\n",
    "    for i in range(len(x_test)):\n",
    "        y_pred.append(weightcal(x_test[i],x_train,y_train,k))\n",
    "    return y_pred"
   ]
  },
  {
   "cell_type": "code",
   "execution_count": 7,
   "metadata": {},
   "outputs": [],
   "source": [
    "y_pred = predict(x_test,x_train,y_train,7)"
   ]
  },
  {
   "cell_type": "code",
   "execution_count": 8,
   "metadata": {},
   "outputs": [
    {
     "name": "stdout",
     "output_type": "stream",
     "text": [
      "accuracy_KNN : 1.000\n",
      "precision_KNN : 1.000\n",
      "recall_KNN: 1.000\n",
      "f1-score_KNN : 1.000\n"
     ]
    }
   ],
   "source": [
    "accuracy = accuracy_score(y_test,y_pred)\n",
    "precision =precision_score(y_test, y_pred,average='micro')\n",
    "recall =  recall_score(y_test, y_pred,average='micro')\n",
    "f1 = f1_score(y_test,y_pred,average='micro')\n",
    "print('accuracy_KNN : %.3f' %accuracy)\n",
    "print('precision_KNN : %.3f' %precision)\n",
    "print('recall_KNN: %.3f' %recall)\n",
    "print('f1-score_KNN : %.3f' %f1)"
   ]
  }
 ],
 "metadata": {
  "kernelspec": {
   "display_name": "Python 3 (ipykernel)",
   "language": "python",
   "name": "python3"
  },
  "language_info": {
   "codemirror_mode": {
    "name": "ipython",
    "version": 3
   },
   "file_extension": ".py",
   "mimetype": "text/x-python",
   "name": "python",
   "nbconvert_exporter": "python",
   "pygments_lexer": "ipython3",
   "version": "3.9.13"
  }
 },
 "nbformat": 4,
 "nbformat_minor": 2
}
