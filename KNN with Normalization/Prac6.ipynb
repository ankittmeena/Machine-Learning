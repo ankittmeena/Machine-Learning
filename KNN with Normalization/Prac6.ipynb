{
 "cells": [
  {
   "cell_type": "code",
   "execution_count": 10,
   "metadata": {},
   "outputs": [],
   "source": [
    "from sklearn.model_selection import train_test_split\n",
    "from sklearn import datasets\n",
    "from collections import Counter \n",
    "from sklearn.metrics import accuracy_score ,precision_score,recall_score,f1_score\n",
    "from sklearn import preprocessing\n",
    "import numpy as np"
   ]
  },
  {
   "cell_type": "code",
   "execution_count": 11,
   "metadata": {},
   "outputs": [],
   "source": [
    "iris = datasets.load_iris()"
   ]
  },
  {
   "cell_type": "code",
   "execution_count": 12,
   "metadata": {},
   "outputs": [],
   "source": [
    "x=iris.data\n",
    "y=iris.target "
   ]
  },
  {
   "cell_type": "code",
   "execution_count": 13,
   "metadata": {},
   "outputs": [],
   "source": [
    "x = x.T\n",
    "x[0] = (x[0] - np.min(x[0])) / (np.max(x[0])-np.min(x[0]))\n",
    "x[1] = (x[1] - np.min(x[1])) / (np.max(x[1])-np.min(x[1]))\n",
    "x[2] = (x[2] - np.min(x[2])) / (np.max(x[2])-np.min(x[2]))\n",
    "x[3] = (x[3] - np.min(x[3])) / (np.max(x[3])-np.min(x[3]))\n",
    "x = x.T"
   ]
  },
  {
   "cell_type": "code",
   "execution_count": 14,
   "metadata": {},
   "outputs": [],
   "source": [
    "x_train,x_test,y_train,y_test=train_test_split(x,y)"
   ]
  },
  {
   "cell_type": "code",
   "execution_count": 15,
   "metadata": {},
   "outputs": [],
   "source": [
    "def leastDis(x_test,x_train,y_train,k):\n",
    "    distance = []\n",
    "    for i in range(len(x_train)):\n",
    "        distance.append([((x_test-x_train[i,:])**2).sum(),i])\n",
    "    distance=sorted(distance)\n",
    "    best_k = []\n",
    "    for i in range(k):\n",
    "        best_k.append(y_train[distance[i][1]]) \n",
    "    return Counter(best_k).most_common(1)[0][0]\n",
    "#to predict the class of a test sample based on its distance to the nearest k neighbors in the training set."
   ]
  },
  {
   "cell_type": "code",
   "execution_count": 17,
   "metadata": {},
   "outputs": [],
   "source": [
    "def predict(x_test,x_train,y_train,k):\n",
    "    y_pred = []\n",
    "    for i in range(len(x_test)):\n",
    "        y_pred.append(leastDis(x_test[i],x_train,y_train,k))\n",
    "    return y_pred"
   ]
  },
  {
   "cell_type": "code",
   "execution_count": 18,
   "metadata": {},
   "outputs": [],
   "source": [
    "y_pred = predict(x_test,x_train,y_train,5)"
   ]
  },
  {
   "cell_type": "code",
   "execution_count": 19,
   "metadata": {},
   "outputs": [
    {
     "name": "stdout",
     "output_type": "stream",
     "text": [
      "accuracy_KNN : 0.947\n",
      "precision_KNN : 0.947\n",
      "recall_KNN: 0.947\n",
      "f1-score_KNN : 0.947\n"
     ]
    }
   ],
   "source": [
    "accuracy = accuracy_score(y_test,y_pred)\n",
    "precision =precision_score(y_test, y_pred,average='micro')\n",
    "recall =  recall_score(y_test, y_pred,average='micro')\n",
    "f1 = f1_score(y_test,y_pred,average='micro')\n",
    "print('accuracy_KNN : %.3f' %accuracy)\n",
    "print('precision_KNN : %.3f' %precision)\n",
    "print('recall_KNN: %.3f' %recall)\n",
    "print('f1-score_KNN : %.3f' %f1)"
   ]
  },
  {
   "cell_type": "code",
   "execution_count": null,
   "metadata": {},
   "outputs": [],
   "source": []
  }
 ],
 "metadata": {
  "kernelspec": {
   "display_name": "Python 3 (ipykernel)",
   "language": "python",
   "name": "python3"
  },
  "language_info": {
   "codemirror_mode": {
    "name": "ipython",
    "version": 3
   },
   "file_extension": ".py",
   "mimetype": "text/x-python",
   "name": "python",
   "nbconvert_exporter": "python",
   "pygments_lexer": "ipython3",
   "version": "3.9.13"
  }
 },
 "nbformat": 4,
 "nbformat_minor": 2
}
