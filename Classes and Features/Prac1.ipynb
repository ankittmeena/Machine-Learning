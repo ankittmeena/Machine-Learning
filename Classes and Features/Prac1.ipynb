{
 "cells": [
  {
   "cell_type": "code",
   "execution_count": 2,
   "id": "3048c0ac-7be6-4f94-87c8-1afa92f82142",
   "metadata": {},
   "outputs": [],
   "source": [
    "import numpy as nm"
   ]
  },
  {
   "cell_type": "code",
   "execution_count": 3,
   "id": "ea3844c2-16b6-4fbf-8034-236ae875028e",
   "metadata": {},
   "outputs": [],
   "source": [
    "import matplotlib.pyplot as mpt"
   ]
  },
  {
   "cell_type": "code",
   "execution_count": 4,
   "id": "c226895a-22c2-4dea-ab66-814c14764d9e",
   "metadata": {},
   "outputs": [],
   "source": [
    "import pandas as pd"
   ]
  },
  {
   "cell_type": "code",
   "execution_count": 5,
   "id": "b19a5420-2481-4cc2-b486-5f74820a2238",
   "metadata": {},
   "outputs": [
    {
     "name": "stdout",
     "output_type": "stream",
     "text": [
      "     Rank             Youtube Channel  Subscribers      Video Views  \\\n",
      "0       1                    T-Series  234,000,000  212,900,271,553   \n",
      "1       2              YouTube Movies  161,000,000                0   \n",
      "2       3  Cocomelon - Nursery Rhymes  152,000,000  149,084,178,448   \n",
      "3       4                   SET India  150,000,000  137,828,094,104   \n",
      "4       5                     MrBeast  128,000,000   21,549,128,785   \n",
      "..    ...                         ...          ...              ...   \n",
      "995   996                     XO TEAM   11,500,000   11,471,384,709   \n",
      "996   997         Nirahua Music World   11,500,000    5,997,717,755   \n",
      "997   998                     YtCrash   11,400,000        3,825,084   \n",
      "998   999                   Painzeiro   11,400,000    2,143,444,281   \n",
      "999  1000                   Oum Walid   11,400,000    2,480,064,722   \n",
      "\n",
      "    Video Count          Category  Started  \n",
      "0        18,515             Music     2006  \n",
      "1             0  Film & Animation     2015  \n",
      "2           846         Education     2006  \n",
      "3       103,200             Shows     2006  \n",
      "4           733     Entertainment     2012  \n",
      "..          ...               ...      ...  \n",
      "995       2,679    People & Blogs     2021  \n",
      "996         788             Music     2014  \n",
      "997           1         Education     2015  \n",
      "998         946    People & Blogs     2015  \n",
      "999       1,598    People & Blogs     2015  \n",
      "\n",
      "[1000 rows x 7 columns]\n"
     ]
    }
   ],
   "source": [
    "data_set=pd.read_csv('C:\\\\Users\\\\Ankit\\\\Desktop\\\\Machine Learning\\\\1. and 2. Classes and Features\\\\Data.csv')\n",
    "print(data_set)"
   ]
  },
  {
   "cell_type": "code",
   "execution_count": 6,
   "id": "1dfe3371-13e9-4c75-a5f2-7ee464838368",
   "metadata": {},
   "outputs": [
    {
     "name": "stdout",
     "output_type": "stream",
     "text": [
      "Column Names ['Rank', 'Youtube Channel', 'Subscribers', 'Video Views', 'Video Count', 'Category', 'Started']\n"
     ]
    }
   ],
   "source": [
    "# Print all Columns\n",
    "column_names=list(data_set.columns)\n",
    "print(\"Column Names\",column_names)"
   ]
  },
  {
   "cell_type": "code",
   "execution_count": 7,
   "id": "217d1b18",
   "metadata": {},
   "outputs": [
    {
     "data": {
      "text/plain": [
       "(1000, 7)"
      ]
     },
     "execution_count": 7,
     "metadata": {},
     "output_type": "execute_result"
    }
   ],
   "source": [
    "data_set.shape"
   ]
  },
  {
   "cell_type": "code",
   "execution_count": 8,
   "id": "f7a58eb9-d849-4fe0-8865-607056ce6b4e",
   "metadata": {},
   "outputs": [
    {
     "name": "stdout",
     "output_type": "stream",
     "text": [
      "[[1 'T-Series' '234,000,000' '212,900,271,553' '18,515' 'Music']\n",
      " [2 'YouTube Movies' '161,000,000' '0' '0' 'Film & Animation']\n",
      " [3 'Cocomelon - Nursery Rhymes' '152,000,000' '149,084,178,448' '846'\n",
      "  'Education']\n",
      " ...\n",
      " [998 'YtCrash' '11,400,000' '3,825,084' '1' 'Education']\n",
      " [999 'Painzeiro' '11,400,000' '2,143,444,281' '946' 'People & Blogs']\n",
      " [1000 'Oum Walid' '11,400,000' '2,480,064,722' '1,598' 'People & Blogs']]\n"
     ]
    }
   ],
   "source": [
    "x= data_set.iloc[:,:-1].values \n",
    "print(x)"
   ]
  },
  {
   "cell_type": "code",
   "execution_count": 9,
   "id": "68918107-e496-4e44-be32-ebdd51f903bb",
   "metadata": {},
   "outputs": [
    {
     "name": "stdout",
     "output_type": "stream",
     "text": [
      "     Rank             Youtube Channel  Subscribers      Video Views  \\\n",
      "0       1                    T-Series  234,000,000  212,900,271,553   \n",
      "1       2              YouTube Movies  161,000,000                0   \n",
      "2       3  Cocomelon - Nursery Rhymes  152,000,000  149,084,178,448   \n",
      "3       4                   SET India  150,000,000  137,828,094,104   \n",
      "4       5                     MrBeast  128,000,000   21,549,128,785   \n",
      "..    ...                         ...          ...              ...   \n",
      "995   996                     XO TEAM   11,500,000   11,471,384,709   \n",
      "996   997         Nirahua Music World   11,500,000    5,997,717,755   \n",
      "997   998                     YtCrash   11,400,000        3,825,084   \n",
      "998   999                   Painzeiro   11,400,000    2,143,444,281   \n",
      "999  1000                   Oum Walid   11,400,000    2,480,064,722   \n",
      "\n",
      "    Video Count          Category  Started  \n",
      "0        18,515             Music     2006  \n",
      "1             0  Film & Animation     2015  \n",
      "2           846         Education     2006  \n",
      "3       103,200             Shows     2006  \n",
      "4           733     Entertainment     2012  \n",
      "..          ...               ...      ...  \n",
      "995       2,679    People & Blogs     2021  \n",
      "996         788             Music     2014  \n",
      "997           1         Education     2015  \n",
      "998         946    People & Blogs     2015  \n",
      "999       1,598    People & Blogs     2015  \n",
      "\n",
      "[1000 rows x 7 columns]\n"
     ]
    }
   ],
   "source": [
    "# Print all rows\n",
    "print(data_set.iloc[:])"
   ]
  },
  {
   "cell_type": "code",
   "execution_count": 10,
   "id": "aeb04069-36c8-4ff8-84ce-f6c0f70e5053",
   "metadata": {},
   "outputs": [
    {
     "name": "stdout",
     "output_type": "stream",
     "text": [
      "       Rank             Youtube Channel  Subscribers      Video Views  \\\n",
      "0       1.0                    T-Series  234,000,000  212,900,271,553   \n",
      "1       2.0              YouTube Movies  161,000,000                0   \n",
      "2       3.0  Cocomelon - Nursery Rhymes  152,000,000  149,084,178,448   \n",
      "3       4.0                   SET India  150,000,000  137,828,094,104   \n",
      "4       5.0                     MrBeast  128,000,000   21,549,128,785   \n",
      "..      ...                         ...          ...              ...   \n",
      "995   996.0                     XO TEAM   11,500,000   11,471,384,709   \n",
      "996   997.0         Nirahua Music World   11,500,000    5,997,717,755   \n",
      "997   998.0                     YtCrash   11,400,000        3,825,084   \n",
      "998   999.0                   Painzeiro   11,400,000    2,143,444,281   \n",
      "999  1000.0                   Oum Walid   11,400,000    2,480,064,722   \n",
      "\n",
      "    Video Count          Category  Started  \n",
      "0        18,515             Music     2006  \n",
      "1             0  Film & Animation     2015  \n",
      "2           846         Education     2006  \n",
      "3       103,200             Shows     2006  \n",
      "4           733     Entertainment     2012  \n",
      "..          ...               ...      ...  \n",
      "995       2,679    People & Blogs     2021  \n",
      "996         788             Music     2014  \n",
      "997           1         Education     2015  \n",
      "998         946    People & Blogs     2015  \n",
      "999       1,598    People & Blogs     2015  \n",
      "\n",
      "[1000 rows x 7 columns]\n"
     ]
    }
   ],
   "source": [
    "data=pd.read_csv('C:\\\\Users\\\\Ankit\\\\Desktop\\\\Machine Learning\\\\1. and 2. Classes and Features\\\\Data.csv', na_values=['NA','99'])\n",
    "print(data)"
   ]
  },
  {
   "cell_type": "code",
   "execution_count": 14,
   "id": "3e5b9109-030e-4300-a675-76ea5c63443f",
   "metadata": {},
   "outputs": [
    {
     "data": {
      "text/plain": [
       "Rank               float64\n",
       "Youtube Channel     object\n",
       "Subscribers         object\n",
       "Video Views         object\n",
       "Video Count         object\n",
       "Category            object\n",
       "Started              int64\n",
       "dtype: object"
      ]
     },
     "execution_count": 14,
     "metadata": {},
     "output_type": "execute_result"
    }
   ],
   "source": [
    "data.dtypes"
   ]
  },
  {
   "cell_type": "code",
   "execution_count": 16,
   "id": "fd2cfa8a",
   "metadata": {},
   "outputs": [
    {
     "data": {
      "text/plain": [
       "Entertainment                                                                   238\n",
       "Music                                                                           217\n",
       "People & Blogs                                                                  132\n",
       "Gaming                                                                           94\n",
       "Comedy                                                                           68\n",
       "Film & Animation                                                                 50\n",
       "Education                                                                        45\n",
       "Howto & Style                                                                    43\n",
       "https://us.youtubers.me/global/all/top-1000-most_subscribed-youtube-channels     30\n",
       "News & Politics                                                                  27\n",
       "Science & Technology                                                             18\n",
       "Shows                                                                            14\n",
       "Sports                                                                           10\n",
       "Pets & Animals                                                                    6\n",
       "Trailers                                                                          2\n",
       "Nonprofits & Activism                                                             2\n",
       "Movies                                                                            2\n",
       "Autos & Vehicles                                                                  1\n",
       "Travel & Events                                                                   1\n",
       "Name: Category, dtype: int64"
      ]
     },
     "execution_count": 16,
     "metadata": {},
     "output_type": "execute_result"
    }
   ],
   "source": [
    "data['Category'].value_counts()"
   ]
  },
  {
   "cell_type": "code",
   "execution_count": null,
   "id": "81d8cf2d",
   "metadata": {},
   "outputs": [],
   "source": []
  }
 ],
 "metadata": {
  "kernelspec": {
   "display_name": "Python 3 (ipykernel)",
   "language": "python",
   "name": "python3"
  },
  "language_info": {
   "codemirror_mode": {
    "name": "ipython",
    "version": 3
   },
   "file_extension": ".py",
   "mimetype": "text/x-python",
   "name": "python",
   "nbconvert_exporter": "python",
   "pygments_lexer": "ipython3",
   "version": "3.9.13"
  }
 },
 "nbformat": 4,
 "nbformat_minor": 5
}
