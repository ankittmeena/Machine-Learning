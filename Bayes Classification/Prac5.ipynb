{
 "cells": [
  {
   "cell_type": "code",
   "execution_count": 8,
   "metadata": {},
   "outputs": [],
   "source": [
    "from sklearn.model_selection import train_test_split\n",
    "from sklearn import datasets\n",
    "import numpy as np\n",
    "import pandas as pd\n",
    "from sklearn.metrics import accuracy_score ,precision_score,recall_score,f1_score\n",
    "import matplotlib.pyplot as plt"
   ]
  },
  {
   "cell_type": "code",
   "execution_count": 9,
   "metadata": {},
   "outputs": [],
   "source": [
    "iris = datasets.load_iris()\n",
    "x=iris.data\n",
    "y=iris.target"
   ]
  },
  {
   "cell_type": "code",
   "execution_count": 10,
   "metadata": {},
   "outputs": [],
   "source": [
    "def fit(x_train,y_train):\n",
    "    all_class = {}\n",
    "    all_classes = set(y_train)\n",
    "    for current_class in all_classes:\n",
    "        all_class[\"total_dataset\"]=y_train.size\n",
    "        all_class[current_class]={}\n",
    "        x_train_current_class = x_train[y_train==current_class]\n",
    "        y_train_current_class = y_train[y_train==current_class]\n",
    "        all_class[current_class][\"total_count\"]=y_train_current_class.size\n",
    "        for j in range(x_train.shape[1]):\n",
    "            all_class[current_class][j]={}\n",
    "            for current_value in set(x_train[:,j]):\n",
    "                all_class[current_class][j][current_value]=(x_train_current_class[:,j]==current_value).sum()\n",
    "    return all_class"
   ]
  },
  {
   "cell_type": "code",
   "execution_count": 11,
   "metadata": {},
   "outputs": [],
   "source": [
    "def PredCurrClass(current_class,dictionary,x_test):\n",
    "    output = dictionary[current_class][\"total_count\"]/dictionary[\"total_dataset\"]\n",
    "    for i in range(len(x_test)):\n",
    "        count_xi = dictionary[current_class][i][x_test[i]]+1\n",
    "        count = dictionary[current_class][\"total_count\"]+len(dictionary[current_class][i].keys())\n",
    "        output=output*(count_xi/count)\n",
    "    return output"
   ]
  },
  {
   "cell_type": "code",
   "execution_count": 12,
   "metadata": {},
   "outputs": [],
   "source": [
    "def help(x_test, dictionary):\n",
    "    best_class=-1\n",
    "    best_probability = -1\n",
    "    for current_class in dictionary.keys():\n",
    "        if (current_class==\"total_dataset\"):\n",
    "            continue\n",
    "        probability_for_current_class = PredCurrClass(current_class,dictionary,x_test)\n",
    "        if probability_for_current_class > best_probability:\n",
    "            best_probability=probability_for_current_class\n",
    "            best_class=current_class\n",
    "    return best_class"
   ]
  },
  {
   "cell_type": "code",
   "execution_count": 13,
   "metadata": {},
   "outputs": [],
   "source": [
    "def predict(x_test,x_train,y_train):\n",
    "    y_test = []\n",
    "    dictionary = fit(x_train,y_train)\n",
    "    for i in range(len(x_test)):\n",
    "        y_predict = help(x_test[i],dictionary)\n",
    "        y_test.append(y_predict)\n",
    "    return y_test"
   ]
  },
  {
   "cell_type": "code",
   "execution_count": 14,
   "metadata": {},
   "outputs": [],
   "source": [
    "def classify(column):\n",
    "    second_cut = column.mean()\n",
    "    first_cut = 0.5*(second_cut)\n",
    "    third_cut = 1.5*(second_cut)\n",
    "    for i in range(column.size):\n",
    "        if(column[i]<=first_cut):\n",
    "            column[i]=0\n",
    "        elif(column[i]>first_cut and column[i]<=second_cut):\n",
    "            column[i]=1\n",
    "        elif(column[i]>second_cut and column[i]<=third_cut):\n",
    "            column[i]=2\n",
    "        else:\n",
    "            column[i]=3\n",
    "    return column"
   ]
  },
  {
   "cell_type": "code",
   "execution_count": 15,
   "metadata": {},
   "outputs": [],
   "source": [
    "for i in range(x.shape[1]):\n",
    "    classify(x[:,i])"
   ]
  },
  {
   "cell_type": "code",
   "execution_count": 16,
   "metadata": {},
   "outputs": [],
   "source": [
    "x_train,x_test,y_train,y_test=train_test_split(x,y,test_size=0.4,random_state=0)"
   ]
  },
  {
   "cell_type": "code",
   "execution_count": 17,
   "metadata": {},
   "outputs": [],
   "source": [
    "y_pred = predict(x_test,x_train,y_train)"
   ]
  },
  {
   "cell_type": "code",
   "execution_count": 18,
   "metadata": {},
   "outputs": [
    {
     "name": "stdout",
     "output_type": "stream",
     "text": [
      "accuracy_Naive Bayes: 0.933\n",
      "precision_Naive Bayes: 0.933\n",
      "recall_Naive Bayes: 0.933\n",
      "f1-score_Naive Bayes : 0.933\n"
     ]
    }
   ],
   "source": [
    "accuracy = accuracy_score(y_test,y_pred)\n",
    "precision =precision_score(y_test, y_pred,average='micro')\n",
    "recall =  recall_score(y_test, y_pred,average='micro')\n",
    "f1 = f1_score(y_test,y_pred,average='micro')\n",
    "print('accuracy_Naive Bayes: %.3f' %accuracy)\n",
    "print('precision_Naive Bayes: %.3f' %precision)\n",
    "print('recall_Naive Bayes: %.3f' %recall)\n",
    "print('f1-score_Naive Bayes : %.3f' %f1)"
   ]
  },
  {
   "cell_type": "code",
   "execution_count": null,
   "metadata": {},
   "outputs": [],
   "source": []
  },
  {
   "cell_type": "code",
   "execution_count": null,
   "metadata": {},
   "outputs": [],
   "source": []
  },
  {
   "cell_type": "code",
   "execution_count": null,
   "metadata": {},
   "outputs": [],
   "source": []
  }
 ],
 "metadata": {
  "kernelspec": {
   "display_name": "Python 3 (ipykernel)",
   "language": "python",
   "name": "python3"
  },
  "language_info": {
   "codemirror_mode": {
    "name": "ipython",
    "version": 3
   },
   "file_extension": ".py",
   "mimetype": "text/x-python",
   "name": "python",
   "nbconvert_exporter": "python",
   "pygments_lexer": "ipython3",
   "version": "3.9.13"
  }
 },
 "nbformat": 4,
 "nbformat_minor": 2
}
